{
  "cells": [
    {
      "cell_type": "markdown",
      "metadata": {
        "id": "RzMsP9hsc36l"
      },
      "source": [
        "## numpy와 닮은 파이토치 (pytorch)"
      ]
    },
    {
      "cell_type": "code",
      "execution_count": 1,
      "metadata": {
        "id": "SAmMX78Lc3Iy"
      },
      "outputs": [
        {
          "name": "stdout",
          "output_type": "stream",
          "text": [
            "tensor([1, 2, 3, 4])\n",
            "<class 'torch.Tensor'>\n",
            "torch.int64\n",
            "torch.Size([4])\n",
            "torch.float32\n",
            "tensor([1.0000, 2.0000, 3.1000, 4.0000])\n"
          ]
        }
      ],
      "source": [
        "import torch # import numpy as np\n",
        "import numpy as np\n",
        "a=torch.tensor([1,2,3,4]) # np.array([1, 2, 3, 4])\n",
        "print(a)\n",
        "print(type(a))\n",
        "print(a.dtype) # data type\n",
        "print(a.shape)\n",
        "b=torch.tensor([1,2, 3.1   , 4])\n",
        "print(b.dtype) # 하나라도 실수면 자동으로 실수 타입으로\n",
        "print(b)"
      ]
    },
    {
      "cell_type": "code",
      "execution_count": 2,
      "metadata": {
        "id": "QRPA6o3EdDy5"
      },
      "outputs": [
        {
          "name": "stdout",
          "output_type": "stream",
          "text": [
            "tensor([[1, 2, 3],\n",
            "        [3, 4, 5]])\n",
            "torch.Size([2, 3])\n",
            "2\n",
            "6\n"
          ]
        }
      ],
      "source": [
        "A = torch.tensor([ [1,2,3], [3,4,5] ]) # 이 셀부터는 import torch 는 실행 했다 치고 작성\n",
        "# A = torch.tensor([[1,2],[3,4,5]]) # 리스트와는 달리 이제는 행렬이라서 각 행에 해당하는 숫자의 개수가 같아야 함\n",
        "print(A)\n",
        "print(A.shape)\n",
        "print(A.ndim)  # 차원의 수 (대괄호 개수)\n",
        "print(A.numel()) # 전체 성분의 수"
      ]
    },
    {
      "cell_type": "code",
      "execution_count": 9,
      "metadata": {
        "id": "DtQ20sP8dv8i"
      },
      "outputs": [
        {
          "name": "stdout",
          "output_type": "stream",
          "text": [
            "tensor([0., 0., 0., 0., 0.])\n",
            "tensor([[0, 0, 0],\n",
            "        [0, 0, 0]])\n",
            "tensor([1., 1., 1., 1., 1.])\n",
            "tensor([[0., 0., 0.],\n",
            "        [0., 0., 0.],\n",
            "        [0., 0., 0.]])\n",
            "tensor([3, 5, 7, 9])\n",
            "tensor([0.0000, 0.1000, 0.2000, 0.3000, 0.4000, 0.5000, 0.6000, 0.7000, 0.8000,\n",
            "        0.9000])\n",
            "[0.  0.1 0.2 0.3 0.4 0.5 0.6 0.7 0.8 0.9]\n",
            "[0.         0.11111111 0.22222222 0.33333333 0.44444444 0.55555556\n",
            " 0.66666667 0.77777778 0.88888889 1.        ]\n",
            "tensor([0.0000, 0.1111, 0.2222, 0.3333, 0.4444, 0.5556, 0.6667, 0.7778, 0.8889,\n",
            "        1.0000])\n"
          ]
        }
      ],
      "source": [
        "print(torch.zeros(5))\n",
        "print(torch.zeros_like(A))\n",
        "print(torch.ones(5))\n",
        "print(torch.zeros(3,3))\n",
        "print(torch.arange(3,10,2)) # range랑 같은데 tensor로 만들어줌\n",
        "print(torch.arange(0,1,0.1)) # 소수점 가능\n",
        "#print(np.linspace(0,1,10, endpoint=False))\n",
        "#print(np.linspace(0,1,10, endpoint=True)) \n",
        "print(torch.linspace(0,1,10)) # 0 에서부터 1 포함(default) 10개로. endpoint = True"
      ]
    },
    {
      "cell_type": "code",
      "execution_count": 12,
      "metadata": {
        "colab": {
          "base_uri": "https://localhost:8080/"
        },
        "id": "mEY_M0PPfRCz",
        "outputId": "32ea456d-6ef0-42bd-897e-01279e42a78b"
      },
      "outputs": [
        {
          "name": "stdout",
          "output_type": "stream",
          "text": [
            "[1, 2, 3, 4, 5, 6]\n",
            "[5 7 9]\n",
            "tensor([5, 7, 9])\n"
          ]
        }
      ],
      "source": [
        "# 리스트의 더하기\n",
        "a2=[1,2,3]\n",
        "b2=[4,5,6]\n",
        "c2=a2+b2\n",
        "print(c2)\n",
        "# numpy 더하기\n",
        "a1=np.array([1,2,3])\n",
        "b1=np.array([4,5,6])\n",
        "c1=a1+b1\n",
        "print(c1)\n",
        "# torch 더하기\n",
        "a=torch.tensor([1,2,3])\n",
        "b=torch.tensor([4,5,6])\n",
        "c=a+b\n",
        "print(c)"
      ]
    },
    {
      "cell_type": "code",
      "execution_count": null,
      "metadata": {
        "colab": {
          "base_uri": "https://localhost:8080/"
        },
        "id": "zRGH_ASMfY5q",
        "outputId": "6c077e0f-6834-4489-e363-ee94e9b47339"
      },
      "outputs": [
        {
          "name": "stdout",
          "output_type": "stream",
          "text": [
            "tensor([[5, 7, 9],\n",
            "        [2, 3, 4]])\n",
            "tensor([[-3, -3, -3],\n",
            "        [ 0,  1,  2]])\n",
            "\n",
            "tensor([[ 4, 10, 18],\n",
            "        [ 1,  2,  3]])\n",
            "tensor([[0.2500, 0.4000, 0.5000],\n",
            "        [1.0000, 2.0000, 3.0000]])\n",
            "tensor([[16, 25, 36],\n",
            "        [ 1,  1,  1]])\n"
          ]
        }
      ],
      "source": [
        "A=torch.tensor([[1,2,3],[1,2,3]])\n",
        "B=torch.tensor([[4,5,6],[1,1,1]])\n",
        "C=A+B\n",
        "D=A-B\n",
        "print(C) \n",
        "print(D)\n",
        "print()\n",
        "print(A*B) # 곱셈은? 성분끼리의 곱! (Hadamard product)\n",
        "print(A/B) # 나누기도 마찬가지\n",
        "print(B**2) # 제곱도 각 성분에 대해서 해준다"
      ]
    },
    {
      "cell_type": "code",
      "execution_count": null,
      "metadata": {
        "colab": {
          "base_uri": "https://localhost:8080/"
        },
        "id": "LDMR3HebgeIS",
        "outputId": "dea7eed6-2331-4979-fe0c-749df473347c"
      },
      "outputs": [
        {
          "name": "stdout",
          "output_type": "stream",
          "text": [
            "tensor([[ 1,  4],\n",
            "        [ 9, 16]])\n",
            "tensor([[ 7, 10],\n",
            "        [15, 22]])\n"
          ]
        }
      ],
      "source": [
        "A=torch.tensor([[1,2],[3,4]])\n",
        "B=torch.tensor([[1,2],[3,4]])\n",
        "print(A*B)\n",
        "print(A@B) # 이게 진짜 행렬 곱하기"
      ]
    },
    {
      "cell_type": "markdown",
      "metadata": {
        "id": "lwIW_G6ThRuW"
      },
      "source": [
        "## pytorch 의 인덱싱 슬라이스"
      ]
    },
    {
      "cell_type": "code",
      "execution_count": null,
      "metadata": {
        "colab": {
          "base_uri": "https://localhost:8080/"
        },
        "id": "EvEXUodtlOyq",
        "outputId": "839ed169-fb9f-490b-e9a1-2067ea025d8a"
      },
      "outputs": [
        {
          "name": "stdout",
          "output_type": "stream",
          "text": [
            "tensor(1)\n",
            "tensor(2)\n",
            "tensor(9)\n",
            "tensor([2, 3, 4])\n",
            "tensor([8, 9])\n",
            "tensor([1, 2, 3, 4, 5, 6, 7])\n",
            "tensor([1, 2, 3, 4, 5, 6, 7, 8, 9])\n"
          ]
        }
      ],
      "source": [
        "a=torch.tensor([1,2,3,4,5,6,7,8,9])\n",
        "# 인덱싱과 슬라이싱, list할 때와 동일!\n",
        "print(a[0])\n",
        "print(a[1])\n",
        "print(a[-1])\n",
        "print(a[1:4]) # 4번째 제외\n",
        "print(a[7:])\n",
        "print(a[:7]) # 7번째 제외\n",
        "print(a[:])"
      ]
    },
    {
      "cell_type": "code",
      "execution_count": null,
      "metadata": {
        "colab": {
          "base_uri": "https://localhost:8080/"
        },
        "id": "4PSLeE0flTMC",
        "outputId": "228f63da-3b73-4b5e-c746-3ca541e24a71"
      },
      "outputs": [
        {
          "name": "stdout",
          "output_type": "stream",
          "text": [
            "tensor([1, 2, 3])\n",
            "tensor([7, 8, 9])\n",
            "tensor([[4, 5, 6],\n",
            "        [7, 8, 9]])\n",
            "tensor([[1, 2, 3],\n",
            "        [4, 5, 6],\n",
            "        [7, 8, 9]])\n",
            "tensor(3)\n",
            "tensor(3)\n",
            "[[1, 2, 3, 4], [5, 6, 7, 8]]\n",
            "3\n",
            "tensor([4, 5, 6])\n",
            "tensor([4, 6])\n",
            "tensor([3, 6, 9])\n",
            "tensor([7, 8, 9])\n"
          ]
        }
      ],
      "source": [
        "# 행렬에 대한 인덱싱과 슬라이싱\n",
        "A=torch.tensor([ [1,2,3], [4,5,6], [7,8,9] ])\n",
        "print(A[0]) # [1, 2, 3] # 하나만 쓰면 행에 대한 인덱싱 (리스트 속 리스트 생각)\n",
        "print(A[-1]) # [7, 8, 9]\n",
        "print(A[1:]) # [4, 5, 6]. [7, 8, 9]\n",
        "print(A[:]) # all\n",
        "print(A[0][2]) # 3\n",
        "print(A[0,2]) # 3 # 2차원 행렬도 동일한데, 리스트와 달리 이런 것도 됨\n",
        "# 리스트인 경우와 비교\n",
        "B=[[1,2,3,4], [5,6,7,8]]\n",
        "print(B)\n",
        "print(B[0][2])\n",
        "# print(B[0,2]) # error! tensor에서 추가적인 method ','를 제공하는 것\n",
        "print(A[1, :]) # 1 행, 전부\n",
        "print(A[1, 0:3:2])\n",
        "print(A[:,2]) # 전부, 2 열\n",
        "print(A[:][2]) # 예상과 다르게 [7, 8, 9]임에 유의할 것"
      ]
    },
    {
      "cell_type": "code",
      "execution_count": null,
      "metadata": {
        "colab": {
          "base_uri": "https://localhost:8080/"
        },
        "id": "y6Zg1lZ9ZIBe",
        "outputId": "d239208a-0f40-4585-95c5-3fed9b3fa866"
      },
      "outputs": [
        {
          "name": "stdout",
          "output_type": "stream",
          "text": [
            "tensor([[[ 0,  1,  2,  3],\n",
            "         [ 4,  5,  6,  7],\n",
            "         [ 8,  9, 10, 11]],\n",
            "\n",
            "        [[12, 13, 14, 15],\n",
            "         [16, 17, 18, 19],\n",
            "         [20, 21, 22, 23]]])\n",
            "torch.Size([2, 3, 4])\n",
            "tensor(6)\n",
            "torch.Size([1, 1, 4])\n"
          ]
        }
      ],
      "source": [
        "# 3차원 행렬 인덱싱\n",
        "A=torch.tensor([ [[0,1,2,3],[4,5,6,7],[8,9,10,11]] ,   \n",
        "             [[12,13,14,15],[16,17,18,19],[20,21,22,23]] ])\n",
        "print(A)\n",
        "print(A.shape) # 대괄호가 하나 늘어나면 왼쪽에 shape 값이 추가 된다. 개 채 행 열\n",
        "print(A[0,1,2]) # 6\n",
        "\n",
        "a=torch.tensor([[[1,2,3,4]]])\n",
        "print(a.shape)"
      ]
    },
    {
      "cell_type": "code",
      "execution_count": null,
      "metadata": {
        "colab": {
          "base_uri": "https://localhost:8080/"
        },
        "id": "DBjH6loolzdS",
        "outputId": "74fd4c62-856b-44e0-efc2-a299d1fcd736"
      },
      "outputs": [
        {
          "name": "stdout",
          "output_type": "stream",
          "text": [
            "False\n",
            "tensor([[False, False,  True, False],\n",
            "        [False,  True, False,  True]])\n",
            "tensor([3, 3, 3])\n",
            "tensor([[  1,   2, 100,   4],\n",
            "        [  5, 100,   7, 100]])\n",
            "tensor([[1, 2],\n",
            "        [7, 8]])\n",
            "tensor([1, 2])\n"
          ]
        }
      ],
      "source": [
        "# boolean 인덱싱\n",
        "# 리스트인 경우\n",
        "a=[1,2,3,4,5,3,3]\n",
        "print(a==3) # 여러개 값 들어있는 리스트랑 3 달랑 하나랑 같냐? 다르다!\n",
        "# tensor인 경우\n",
        "A=torch.tensor([[1,2,3,4],[5,3,7,3]])\n",
        "print(A==3) # 리스트와 달리 '각 성분'에 대해 비교해줌\n",
        "print(A[A==3]) # True, False가 담긴 행렬로 인덱싱 가능!! # true인 곳에 존재하는 성분을 가져온 것이라 3 표시\n",
        "\n",
        "A[A==3] = 100\n",
        "print(A) # 그러면 이런 것도 가능하다! (3과 같은 애를 100으로 바꿔줘)\n",
        "\n",
        "# for i in range(A.shape[0]):\n",
        "    # for j in range(A.shape[1]):\n",
        "        # if A[i][j] == 3:\n",
        "            # A[i][j] = 100\n",
        "\n",
        "A=torch.tensor([[1,2],[3,4],[5,6],[7,8]])\n",
        "B=torch.tensor([True, False, False, True]) # 참고로 그냥 리스트여도 됨\n",
        "print(A[B,:]) # 0행, 3행 슬라이싱\n",
        "# [[1, 2], [7, 8]]\n",
        "b=torch.tensor([1,2,3,4])\n",
        "print(b[ [True,True,False,False] ])\n",
        "c=[1,2,3,4]\n",
        "# c[[True,True,False,False]] # error! 리스트에서는 지원하지 않음\n",
        "# 마스킹할 때 아주 유용할 것으로 보임!"
      ]
    },
    {
      "cell_type": "code",
      "execution_count": null,
      "metadata": {
        "colab": {
          "base_uri": "https://localhost:8080/"
        },
        "id": "FzKn6wIJZAgn",
        "outputId": "b4c1e2ce-2d88-4190-a31b-2c0393daba90"
      },
      "outputs": [
        {
          "name": "stdout",
          "output_type": "stream",
          "text": [
            "tensor(3)\n",
            "tensor(3)\n",
            "tensor([3, 4, 5])\n",
            "tensor([[3, 3, 3],\n",
            "        [4, 4, 4]])\n",
            "tensor([1, 2, 3])\n",
            "torch.Size([2, 2, 3])\n",
            "tensor([[[1, 2, 3],\n",
            "         [4, 5, 6]],\n",
            "\n",
            "        [[4, 5, 6],\n",
            "         [4, 5, 6]]])\n"
          ]
        }
      ],
      "source": [
        "# tensor로 인덱싱\n",
        "a=torch.tensor([1,2,3,4,5]) # tensor가 1행 5열인 경우\n",
        "A=a[2]\n",
        "print(A)\n",
        "# 3\n",
        "A=a[ torch.tensor(2) ] # torch.tensor 안에다가?\n",
        "print(A)\n",
        "# 3\n",
        "A=a[ torch.tensor([2,3,4]) ]\n",
        "print(A)\n",
        "# [3, 4, 5] [torch.tensor(2), torch.tensor(3), torch.tensor(4)]. shape에 맞게 만들어 줌\n",
        "A=a[ torch.tensor([[2,2,2],[3,3,3]]) ] #  행렬로 주면, 이 shape에 맞게 만들어 줌\n",
        "print(A) # 인덱싱된 애들로 2행 3열짜리 행렬을 만든다\n",
        "\n",
        "a=[1,2,3]\n",
        "# a[ [1,1,1,1,2,2,2] ] # error!\n",
        "\n",
        "a=torch.tensor([[1,2,3],[4,5,6]]) # tensor가 2행 3열인 경우\n",
        "print(a[0])\n",
        "A=a[ torch.tensor([[0,1],[1,1]]) ] # 요소 0은 0번째 행 전체를 의미함. \n",
        "print(A.shape) # 예를 들어, a[0] = tensor([1,2,3])과 같이 1차원 데이터이므로 한 차원이 뒤에 늘어나서 2,2, \"3\" 이 된다!\n",
        "# 0번째 요소 [1, 2, 3] 세개임. 차원은 맨 뒤에서 늘어난다.\n",
        "print(A) # segmentation 결과 그림 보여줄 때 사용!\n",
        "# 강아지 레이블은 3. 이 영역을 파란색으로 칠한다. [0, 0, 255]\n"
      ]
    },
    {
      "cell_type": "code",
      "execution_count": null,
      "metadata": {
        "colab": {
          "base_uri": "https://localhost:8080/"
        },
        "id": "BBEF3i6xl1sK",
        "outputId": "95b15ce0-79c5-4728-bbb2-57c11b51cc35"
      },
      "outputs": [
        {
          "name": "stdout",
          "output_type": "stream",
          "text": [
            "tensor([[1, 2],\n",
            "        [3, 4],\n",
            "        [5, 6],\n",
            "        [7, 8]])\n",
            "torch.Size([4, 2])\n",
            "tensor(2)\n",
            "tensor([2])\n",
            "tensor([2])\n",
            "tensor([2, 8])\n",
            "tensor([[3, 4],\n",
            "        [3, 4],\n",
            "        [5, 6],\n",
            "        [5, 6],\n",
            "        [5, 6]])\n"
          ]
        }
      ],
      "source": [
        "A=torch.tensor([[1,2],[3,4],[5,6],[7,8]])\n",
        "print(A)\n",
        "print(A.shape)\n",
        "\n",
        "# 1. A[몇 번째 행이냐, 몇 번째 열이냐]\n",
        "print(A[0,1])\n",
        "# 2. A[ tensor(bool) ] => A와 같은 shape을 가지는 tensor형 bool이 '어디에' True를 가지고 있냐\n",
        "print(A[ torch.tensor([[False,True],[False,False],[False,False],[False,False]]) ]) # 어디? 0, 1에 -> 2\n",
        "print(A[A==2])\n",
        "# 3. A[몇 번째 값에 True가 있냐, 몇 번째 값에 True가 있냐]\n",
        "print(A[ [True,False,False,True], [False,True] ]) # 이해하기 어려움. 0행, 3행, 1번째 열 [0, 1], [3, 1]\n",
        "# 4. A[ tensor ] # 몇 번째 것을 어떻게 쌓을거냐\n",
        "print(A[ torch.tensor([1,1,2,2,2]) ])"
      ]
    },
    {
      "cell_type": "markdown",
      "metadata": {
        "id": "QYBXKfCupHU9"
      },
      "source": [
        "## pytorch의 여러 함수들"
      ]
    },
    {
      "cell_type": "code",
      "execution_count": null,
      "metadata": {
        "colab": {
          "base_uri": "https://localhost:8080/"
        },
        "id": "0lfFqRGOpI-0",
        "outputId": "bcad5926-c6a7-4816-f1ef-7844000984dd"
      },
      "outputs": [
        {
          "name": "stdout",
          "output_type": "stream",
          "text": [
            "tensor([[-2.2280, -0.2655,  0.5285],\n",
            "        [-1.5944,  0.0820, -0.5476],\n",
            "        [ 0.5724,  0.3434, -0.5678]])\n",
            "tensor([[0.5707, 0.2209, 0.7139],\n",
            "        [0.3488, 0.2078, 0.7612],\n",
            "        [0.6228, 0.7249, 0.1137]])\n",
            "tensor([[-2.2280, -0.2655,  0.5285],\n",
            "        [-1.5944,  0.0820, -0.5476]])\n"
          ]
        }
      ],
      "source": [
        "# np.random.randn\n",
        "# np.random.rand\n",
        "A=torch.randn(3,3) # Normal 의 n. normal distribution. 정규분포를 따르는 random 값이라는 뜻. 평균 0 분산 1을 따름.\n",
        "B=torch.rand(3,3) # 이건 uniform. 0부터 1사이를 uniform하게 분포하고 있는 수들.\n",
        "print(A)\n",
        "print(B)\n",
        "print(A[A[:,0]<0,:]) # 0 번째 열이 음수인 행들"
      ]
    },
    {
      "cell_type": "code",
      "execution_count": 14,
      "metadata": {
        "colab": {
          "base_uri": "https://localhost:8080/"
        },
        "id": "J6KxUXALpniU",
        "outputId": "6c0912c6-aa60-4d03-cc55-980b9a547e46"
      },
      "outputs": [
        {
          "name": "stdout",
          "output_type": "stream",
          "text": [
            "tensor([[ 1.3706, -0.6798, -0.5509],\n",
            "        [-0.6445,  0.4718, -0.6917],\n",
            "        [-0.2349,  0.1000, -2.2833]])\n",
            "tensor([[1.3706, 0.6798, 0.5509],\n",
            "        [0.6445, 0.4718, 0.6917],\n",
            "        [0.2349, 0.1000, 2.2833]])\n",
            "tensor([[1.1707, 0.8245, 0.7423],\n",
            "        [0.8028, 0.6869, 0.8317],\n",
            "        [0.4847, 0.3162, 1.5111]])\n",
            "tensor([[3.9377, 0.5067, 0.5764],\n",
            "        [0.5249, 1.6030, 0.5007],\n",
            "        [0.7906, 1.1052, 0.1019]])\n",
            "tensor([[ 0.3152, -0.3859, -0.5961],\n",
            "        [-0.4393, -0.7511, -0.3687],\n",
            "        [-1.4484, -2.3025,  0.8256]])\n",
            "tensor(1.)\n",
            "tensor(1.)\n",
            "tensor(1.)\n",
            "tensor(1.)\n",
            "tensor([[ 1., -1., -1.],\n",
            "        [-1.,  0., -1.],\n",
            "        [-0.,  0., -2.]])\n",
            "tensor([[ 1.3700, -0.6800, -0.5500],\n",
            "        [-0.6400,  0.4700, -0.6900],\n",
            "        [-0.2300,  0.1000, -2.2800]])\n",
            "tensor([[ 1., -1., -1.],\n",
            "        [-1.,  0., -1.],\n",
            "        [-1.,  0., -3.]])\n",
            "tensor([[ 2., -0., -0.],\n",
            "        [-0.,  1., -0.],\n",
            "        [-0.,  1., -2.]])\n"
          ]
        }
      ],
      "source": [
        "A=torch.randn(3,3)\n",
        "print(A)\n",
        "print(torch.abs(A))\n",
        "print(torch.sqrt(torch.abs(A)))\n",
        "print(torch.exp(A))\n",
        "print(torch.log(torch.abs(A)))\n",
        "print(torch.log(torch.exp(torch.tensor(1)))) # torch.exp(torch.tensor(1)) = e^1\n",
        "#print(torch.log(torch.exp(1))) # error\n",
        "print(torch.log10(torch.tensor(10)))\n",
        "print(torch.log2(torch.tensor(2)))\n",
        "print(torch.round(A)) # 반올림\n",
        "print(torch.round(A, decimals=2)) # 소수점 둘째자리까지\n",
        "# np.round(A, 2) \n",
        "print(torch.floor(A)) # 내림\n",
        "print(torch.ceil(A)) # 올림"
      ]
    },
    {
      "cell_type": "code",
      "execution_count": null,
      "metadata": {
        "colab": {
          "base_uri": "https://localhost:8080/"
        },
        "id": "PFPjWX54qaXi",
        "outputId": "057f90fd-1a3a-45b6-c652-1dba6bd8f409"
      },
      "outputs": [
        {
          "name": "stdout",
          "output_type": "stream",
          "text": [
            "tensor(0.5000)\n",
            "tensor(0.5000)\n",
            "tensor(1.)\n",
            "tensor(-1.)\n"
          ]
        },
        {
          "data": {
            "text/plain": [
              "torch.Tensor"
            ]
          },
          "execution_count": 61,
          "metadata": {},
          "output_type": "execute_result"
        }
      ],
      "source": [
        "print(torch.sin(torch.tensor(torch.pi/6))) # type(torch.pi) <- float임 만약 tensor와 연산하면 tensor로 바꿔줌\n",
        "print(torch.cos(torch.tensor(torch.pi/3)))\n",
        "print(torch.tan(torch.tensor(torch.pi/4)))\n",
        "print(torch.tanh(torch.tensor(-10)))\n",
        "\n",
        "type(torch.tensor(1)/6)"
      ]
    },
    {
      "cell_type": "code",
      "execution_count": null,
      "metadata": {
        "colab": {
          "base_uri": "https://localhost:8080/"
        },
        "id": "huDfIsJoqdDa",
        "outputId": "c4f8d6c2-883c-4198-9e38-ac6843154340"
      },
      "outputs": [
        {
          "name": "stdout",
          "output_type": "stream",
          "text": [
            "tensor(nan)\n",
            "tensor([False, False,  True, False, False])\n",
            "tensor([False, False, False, False,  True])\n"
          ]
        }
      ],
      "source": [
        "torch.nan # not a number\n",
        "print(torch.log(torch.tensor(-1)))\n",
        "print(torch.isnan(torch.tensor([1,2,torch.nan,3,4])))\n",
        "print(torch.isinf(torch.tensor([1,2,3,4,torch.inf])))"
      ]
    },
    {
      "cell_type": "code",
      "execution_count": 16,
      "metadata": {
        "colab": {
          "base_uri": "https://localhost:8080/"
        },
        "id": "C9G0Rdhiqn3a",
        "outputId": "97cc435e-aebf-4d2f-8b43-264fe71f0c80"
      },
      "outputs": [
        {
          "name": "stdout",
          "output_type": "stream",
          "text": [
            "tensor([[-0.9447,  0.4701, -0.7931,  0.1165],\n",
            "        [ 1.1161, -1.6240,  0.1932, -0.4267],\n",
            "        [ 0.3724,  1.1893, -0.7728,  0.0273]])\n",
            "torch.return_types.max(\n",
            "values=tensor([0.4701, 1.1161, 1.1893]),\n",
            "indices=tensor([1, 0, 1]))\n",
            "torch.return_types.max(\n",
            "values=tensor([[0.4701],\n",
            "        [1.1161],\n",
            "        [1.1893]]),\n",
            "indices=tensor([[1],\n",
            "        [0],\n",
            "        [1]]))\n",
            "tensor(9)\n",
            "tensor([1, 2, 1, 0])\n",
            "tensor([1, 0, 1])\n"
          ]
        }
      ],
      "source": [
        "A=torch.randn(3,4)\n",
        "print(A)\n",
        "# print(torch.max(A))\n",
        "# print(torch.max(A,dim=0)) # numpy처럼 axis=0로 써도 동작함. \n",
        "print(torch.max(A,dim=1))\n",
        "# print(torch.max(A,dim=0, keepdims=True))\n",
        "print(torch.max(A,dim=1, keepdims=True)) # 3 행 1열 짜리 2D tensor\n",
        "# print(torch.min(A))\n",
        "# print(torch.min(A,dim=0))\n",
        "# print(torch.min(A,dim=1))\n",
        "print(torch.argmax(A))\n",
        "print(torch.argmax(A,dim=0)) # 각 열에서 가장 큰 애가 존재하는 인덱스\n",
        "print(torch.argmax(A,dim=1)) # 각 행에서 가장 큰 애가 존재하는 인덱스"
      ]
    },
    {
      "cell_type": "code",
      "execution_count": 18,
      "metadata": {
        "colab": {
          "base_uri": "https://localhost:8080/"
        },
        "id": "5h8JeQ8bqsrv",
        "outputId": "751af5bc-5e4f-49d5-826d-7113be893edc"
      },
      "outputs": [
        {
          "name": "stdout",
          "output_type": "stream",
          "text": [
            "tensor([[ 0.3830],\n",
            "        [-0.9618],\n",
            "        [ 0.0738],\n",
            "        [ 1.0155],\n",
            "        [-0.8684],\n",
            "        [-0.0049]])\n",
            "torch.return_types.sort(\n",
            "values=tensor([[-0.9618],\n",
            "        [-0.8684],\n",
            "        [-0.0049],\n",
            "        [ 0.0738],\n",
            "        [ 0.3830],\n",
            "        [ 1.0155]]),\n",
            "indices=tensor([[1],\n",
            "        [4],\n",
            "        [5],\n",
            "        [2],\n",
            "        [0],\n",
            "        [3]]))\n",
            "tensor(1.0155)\n",
            "tensor(1.0155)\n",
            "tensor([[0.3830],\n",
            "        [0.9618],\n",
            "        [0.0738],\n",
            "        [1.0155],\n",
            "        [0.8684],\n",
            "        [0.0049]])\n",
            "tensor([[0.3830],\n",
            "        [0.9618],\n",
            "        [0.0738],\n",
            "        [1.0155],\n",
            "        [0.8684],\n",
            "        [0.0049]])\n"
          ]
        }
      ],
      "source": [
        "a=torch.randn(6,1)\n",
        "print(a)\n",
        "a_sorted=torch.sort(a,dim=0)\n",
        "print(a_sorted)\n",
        "\n",
        "# a=torch.randn(6,1)\n",
        "# print(a)\n",
        "# print(a.sort(dim=0))\n",
        "# print(a.sort(dim=0, descending=True))\n",
        "\n",
        "print(torch.max(a))\n",
        "print(a.max()) # 이걸 더 많이 씀\n",
        "print(torch.abs(a))\n",
        "print(a.abs()) # 이걸 더 많이 씀"
      ]
    },
    {
      "cell_type": "code",
      "execution_count": null,
      "metadata": {
        "colab": {
          "base_uri": "https://localhost:8080/"
        },
        "id": "KJUEZtB4rglS",
        "outputId": "d0b81b3c-15cd-41d9-bc17-e248d54a0e2c"
      },
      "outputs": [
        {
          "name": "stdout",
          "output_type": "stream",
          "text": [
            "tensor([[-0.9716, -1.5907, -1.4502, -0.3699],\n",
            "        [-0.5651,  0.0200,  0.2660, -0.0543],\n",
            "        [-0.4527, -0.1583,  0.6699,  2.6063]])\n",
            "tensor(-2.0507)\n",
            "tensor([-4.3824, -0.3335,  2.6652])\n",
            "tensor([[-4.3824],\n",
            "        [-0.3335],\n",
            "        [ 2.6652]])\n",
            "tensor(-0.1709)\n",
            "tensor([-1.0956, -0.0834,  0.6663])\n",
            "tensor([[-1.0956],\n",
            "        [-0.0834],\n",
            "        [ 0.6663]])\n",
            "tensor(1.0966)\n",
            "tensor([[-4.3824],\n",
            "        [-0.3335],\n",
            "        [ 2.6652]])\n",
            "tensor([[-1.0956],\n",
            "        [-0.0834],\n",
            "        [ 0.6663]])\n",
            "tensor(1.0966)\n"
          ]
        }
      ],
      "source": [
        "A=torch.randn(3,4)\n",
        "print(A)\n",
        "print(torch.sum(A))\n",
        "print(torch.sum(A,dim=1))\n",
        "print(torch.sum(A,dim=1,keepdims=True))\n",
        "print(torch.mean(A))\n",
        "print(torch.mean(A,dim=1))\n",
        "print(torch.mean(A,dim=1,keepdims=True))\n",
        "print(torch.std(A)) # standard deviation 표준 편차\n",
        "\n",
        "print(A.sum(dim=1, keepdims=True))\n",
        "print(A.mean(dim=1, keepdims=True))\n",
        "print(A.std())"
      ]
    },
    {
      "cell_type": "code",
      "execution_count": null,
      "metadata": {
        "colab": {
          "base_uri": "https://localhost:8080/"
        },
        "id": "CmuensVlsERE",
        "outputId": "853acbb8-f0c2-4877-94ea-03698294489e"
      },
      "outputs": [
        {
          "name": "stdout",
          "output_type": "stream",
          "text": [
            "tensor([2, 3, 2, 1, 3, 2, 2, 1, 1, 2, 3, 2])\n",
            "torch.Size([12])\n",
            "tensor([[[2, 3, 2],\n",
            "         [1, 3, 2]],\n",
            "\n",
            "        [[2, 1, 1],\n",
            "         [2, 3, 2]]])\n",
            "3\n"
          ]
        }
      ],
      "source": [
        "A=torch.randint(1,5,size=(12,)) # 1부터 5미만 12개 정수 (1 차원은 (N,) 과 같이 표현)\n",
        "print(A)\n",
        "print(A.shape)\n",
        "\n",
        "B=A.reshape(2,2,3)\n",
        "print(B)\n",
        "print(B.ndim) # 3 차원 행렬이다"
      ]
    },
    {
      "cell_type": "code",
      "execution_count": null,
      "metadata": {
        "colab": {
          "base_uri": "https://localhost:8080/"
        },
        "id": "VdXu_OZ1sgNK",
        "outputId": "1a2657e5-272f-4bf1-e23d-ad0fc7d1d942"
      },
      "outputs": [
        {
          "name": "stdout",
          "output_type": "stream",
          "text": [
            "tensor(9)\n",
            "tensor([[9]])\n",
            "tensor([[9]])\n",
            "tensor([[9]])\n",
            "tensor([[9]])\n",
            "torch.Size([4, 6, 3])\n",
            "torch.Size([6, 3, 4])\n"
          ]
        }
      ],
      "source": [
        "a=torch.tensor([1,2,3])\n",
        "b=torch.tensor([2,2,1])\n",
        "print(torch.sum(a*b))\n",
        "\n",
        "a=a.reshape(3,1) # 열 벡터로 변경\n",
        "b=b.reshape(3,1)\n",
        "print(a.transpose(1,0)@b) # transpose @. 2차원일 때 자주 씀. 기능이 다르진 않은데..?\n",
        "print(a.permute(1,0)@b) # 이게 좀 더 중요. 3차원 이상일 때\n",
        "# permute(0번째, 1번째, 2번째에 뭘 넣을지 선택)\n",
        "# permute(0, 2, 1) = 1과 2를 swap한 셈\n",
        "print(a.T@b)\n",
        "print(a.t()@b)\n",
        "\n",
        "A=torch.randn(4,3,6)\n",
        "print(A.permute(0,2,1).shape)\n",
        "print(A.transpose(0,2).shape) # transpose 는 둘끼리 자리 바꾸기만 가능"
      ]
    },
    {
      "cell_type": "code",
      "execution_count": null,
      "metadata": {
        "colab": {
          "base_uri": "https://localhost:8080/"
        },
        "id": "aYsTsVD7sjmj",
        "outputId": "45b44a74-facf-4ee2-83db-c5529bcbb812"
      },
      "outputs": [
        {
          "name": "stdout",
          "output_type": "stream",
          "text": [
            "tensor([ 0,  1,  2,  3,  4,  5,  6,  7,  8,  9, 10, 11, 12, 13, 14, 15, 16, 17,\n",
            "        18, 19])\n",
            "tensor([[ 0,  1,  2,  3,  4],\n",
            "        [ 5,  6,  7,  8,  9],\n",
            "        [10, 11, 12, 13, 14],\n",
            "        [15, 16, 17, 18, 19]])\n",
            "torch.Size([4, 5])\n",
            "torch.Size([2, 5, 2])\n",
            "torch.Size([2, 2, 5])\n",
            "torch.Size([1, 20])\n",
            "torch.Size([20, 1])\n"
          ]
        }
      ],
      "source": [
        "A=torch.arange(20)\n",
        "print(A)\n",
        "print(A.reshape(4,5))\n",
        "print(A.reshape(4,-1).shape) # 4개 행이 될 수 있도록 열의 수를 맞춰라. -1을 쓰면 알아서 5가 들어감.\n",
        "print(A.reshape(2,5,-1).shape) # -1 => 2\n",
        "print(A.reshape(2,-1,5).shape)\n",
        "print(A.reshape(1,-1).shape) # 2차원 행 벡터\n",
        "print(A.reshape(-1,1).shape) # 2차원 열 벡터"
      ]
    },
    {
      "cell_type": "code",
      "execution_count": null,
      "metadata": {
        "colab": {
          "base_uri": "https://localhost:8080/"
        },
        "id": "VFBBHxp2zFyr",
        "outputId": "81ceb5d9-751d-4d6b-b069-29c45781173a"
      },
      "outputs": [
        {
          "name": "stdout",
          "output_type": "stream",
          "text": [
            "torch.Size([4, 5, 6])\n",
            "torch.Size([4, 5, 6])\n",
            "torch.Size([2, 3, 4, 5])\n",
            "torch.Size([2, 3, 4, 5])\n",
            "torch.Size([3, 4, 6])\n",
            "torch.Size([3, 4, 6])\n"
          ]
        }
      ],
      "source": [
        "x=torch.randn(2,3,4,5,6)\n",
        "print(x[1,2,:,:,:].shape) \n",
        "print(x[1,2,...].shape) # x[1, 2, …] 는 x[1, 2, :, :, :] 와 같습니다.\n",
        "print(x[:,:,:,:,3].shape)\n",
        "print(x[...,3].shape) # x[…, 3] 는 x[:, :, :, :, 3] 와 같습니다.\n",
        "print(x[1,:,:,3,:].shape)\n",
        "print(x[1,...,3,:].shape) # x[1, …, 3, :] 는 x[1, :, :, 3, :] 와 같습니다."
      ]
    },
    {
      "cell_type": "code",
      "execution_count": 5,
      "metadata": {
        "colab": {
          "base_uri": "https://localhost:8080/"
        },
        "id": "VsBKRAiJzbBz",
        "outputId": "d6f38eee-4608-48b6-b4ca-d2f151fb7d33"
      },
      "outputs": [
        {
          "name": "stdout",
          "output_type": "stream",
          "text": [
            "tensor([[[1., 1., 1., 1.],\n",
            "         [1., 1., 1., 1.],\n",
            "         [1., 1., 1., 1.]],\n",
            "\n",
            "        [[1., 1., 1., 1.],\n",
            "         [1., 1., 1., 1.],\n",
            "         [1., 1., 1., 1.]],\n",
            "\n",
            "        [[0., 0., 0., 0.],\n",
            "         [0., 0., 0., 0.],\n",
            "         [0., 0., 0., 0.]],\n",
            "\n",
            "        [[0., 0., 0., 0.],\n",
            "         [0., 0., 0., 0.],\n",
            "         [0., 0., 0., 0.]]])\n",
            "tensor([[[1., 1., 1., 1.],\n",
            "         [1., 1., 1., 1.],\n",
            "         [1., 1., 1., 1.],\n",
            "         [0., 0., 0., 0.],\n",
            "         [0., 0., 0., 0.],\n",
            "         [0., 0., 0., 0.]],\n",
            "\n",
            "        [[1., 1., 1., 1.],\n",
            "         [1., 1., 1., 1.],\n",
            "         [1., 1., 1., 1.],\n",
            "         [0., 0., 0., 0.],\n",
            "         [0., 0., 0., 0.],\n",
            "         [0., 0., 0., 0.]]])\n",
            "tensor([[[1., 1., 1., 1.],\n",
            "         [1., 1., 1., 1.],\n",
            "         [1., 1., 1., 1.]],\n",
            "\n",
            "        [[1., 1., 1., 1.],\n",
            "         [1., 1., 1., 1.],\n",
            "         [1., 1., 1., 1.]],\n",
            "\n",
            "        [[0., 0., 0., 0.],\n",
            "         [0., 0., 0., 0.],\n",
            "         [0., 0., 0., 0.]],\n",
            "\n",
            "        [[0., 0., 0., 0.],\n",
            "         [0., 0., 0., 0.],\n",
            "         [0., 0., 0., 0.]]])\n",
            "tensor([[[1., 1., 1., 1.],\n",
            "         [1., 1., 1., 1.],\n",
            "         [1., 1., 1., 1.],\n",
            "         [0., 0., 0., 0.],\n",
            "         [0., 0., 0., 0.],\n",
            "         [0., 0., 0., 0.]],\n",
            "\n",
            "        [[1., 1., 1., 1.],\n",
            "         [1., 1., 1., 1.],\n",
            "         [1., 1., 1., 1.],\n",
            "         [0., 0., 0., 0.],\n",
            "         [0., 0., 0., 0.],\n",
            "         [0., 0., 0., 0.]]])\n",
            "tensor([[[1., 1., 1., 1., 0., 0., 0., 0.],\n",
            "         [1., 1., 1., 1., 0., 0., 0., 0.],\n",
            "         [1., 1., 1., 1., 0., 0., 0., 0.]],\n",
            "\n",
            "        [[1., 1., 1., 1., 0., 0., 0., 0.],\n",
            "         [1., 1., 1., 1., 0., 0., 0., 0.],\n",
            "         [1., 1., 1., 1., 0., 0., 0., 0.]]])\n"
          ]
        }
      ],
      "source": [
        "# 두 행렬 연결하기\n",
        "A=torch.ones((2,3,4))\n",
        "B=torch.zeros((2,3,4))\n",
        "\n",
        "# A=torch.ones((2,3))\n",
        "# B=torch.zeros((2,3))\n",
        "\n",
        "# 헷갈리니 cat을 써라\n",
        "C=torch.vstack([A,B]) # dim = 0\n",
        "D=torch.hstack([A,B]) # dim = 1 # v는 0번째 차원, h는 1번째 차원에 쌓는다.\n",
        "\n",
        "# np.block([A, B])\n",
        "# concatenation\n",
        "E=torch.cat([A,B], dim=0)\n",
        "F=torch.cat([A,B], dim=1)\n",
        "G=torch.cat([A,B], dim=2)\n",
        "\n",
        "print(C)\n",
        "print(D)\n",
        "print(E)\n",
        "print(F)\n",
        "print(G)"
      ]
    },
    {
      "cell_type": "code",
      "execution_count": null,
      "metadata": {
        "colab": {
          "base_uri": "https://localhost:8080/"
        },
        "id": "EOsKnQTvzeAL",
        "outputId": "1ff93612-be52-4586-ca12-df2f096b011b"
      },
      "outputs": [
        {
          "name": "stdout",
          "output_type": "stream",
          "text": [
            "torch.Size([1, 1, 1, 3, 1, 1, 4, 1])\n",
            "torch.Size([3, 4])\n"
          ]
        }
      ],
      "source": [
        "A = torch.randn(1,1,1,3,1,1,4,1) # 원소의 개수는 3x4=12개\n",
        "# print(A)\n",
        "print(A.shape)\n",
        "print(A.squeeze().shape) # 3x4로 squeeze"
      ]
    },
    {
      "cell_type": "code",
      "execution_count": null,
      "metadata": {
        "colab": {
          "base_uri": "https://localhost:8080/"
        },
        "id": "fgFgG48p02YK",
        "outputId": "6a0405e6-049b-4b0b-d700-ddb139b1e635"
      },
      "outputs": [
        {
          "name": "stdout",
          "output_type": "stream",
          "text": [
            "torch.Size([1, 3, 4])\n",
            "torch.Size([3, 1, 4])\n",
            "torch.Size([3, 4, 1])\n",
            "torch.Size([1, 3, 4])\n",
            "torch.Size([3, 1, 4])\n",
            "torch.Size([3, 4, 1])\n"
          ]
        }
      ],
      "source": [
        "A = torch.randn(3,4)\n",
        "print(A.unsqueeze(dim=0).shape) # 차원을 하나 늘려줌. 데이터 차원에 대해서 고려해야 할 때가 있음. 나중에 볼 것\n",
        "print(A.unsqueeze(dim=1).shape)\n",
        "print(A.unsqueeze(dim=2).shape)\n",
        "print(A.reshape(1,3,4).shape)\n",
        "print(A.reshape(3,1,4).shape)\n",
        "print(A.reshape(3,4,1).shape)"
      ]
    },
    {
      "cell_type": "code",
      "execution_count": null,
      "metadata": {
        "colab": {
          "base_uri": "https://localhost:8080/"
        },
        "id": "jG2ZCKHY_O14",
        "outputId": "59259e1f-be41-4f1f-cc66-b5010e579dd4"
      },
      "outputs": [
        {
          "name": "stdout",
          "output_type": "stream",
          "text": [
            "tensor([[[1., 1., 1., 1.],\n",
            "         [1., 1., 1., 1.],\n",
            "         [1., 1., 1., 1.]],\n",
            "\n",
            "        [[0., 0., 0., 0.],\n",
            "         [0., 0., 0., 0.],\n",
            "         [0., 0., 0., 0.]]])\n",
            "torch.Size([2, 3, 4])\n"
          ]
        }
      ],
      "source": [
        "# 사용 예시\n",
        "# 2x3x4를 만들고 싶을 때 \n",
        "# 3x4 두 개를 가지고 있다면, 차원을 먼저 키운 후(unsqueeze) concate해야 만들 수 있다\n",
        "# 안 그러면 3x8이나 6x4밖에 못 만듦\n",
        "A=torch.ones(3,4)\n",
        "B=torch.zeros(3,4)\n",
        "A=A.unsqueeze(dim=0)\n",
        "B=B.unsqueeze(dim=0)\n",
        "C=torch.cat([A,B], dim=0)\n",
        "print(C)\n",
        "print(C.shape)"
      ]
    },
    {
      "cell_type": "code",
      "execution_count": null,
      "metadata": {
        "colab": {
          "base_uri": "https://localhost:8080/"
        },
        "id": "0Ns_z6TI_jMm",
        "outputId": "fdd6ea43-8104-47e9-c5b2-9369653af82b"
      },
      "outputs": [
        {
          "name": "stdout",
          "output_type": "stream",
          "text": [
            "tensor([[100,   2],\n",
            "        [  3,   4]])\n",
            "tensor([[1, 2],\n",
            "        [3, 4]])\n"
          ]
        }
      ],
      "source": [
        "A=torch.tensor([[1,2],[3,4]])\n",
        "B=A.clone() # deep copy\n",
        "# B=A하면 B를 변경했을 때 A도 바뀐다. \n",
        "B[0,0]=100\n",
        "\n",
        "print(B)\n",
        "print(A)"
      ]
    },
    {
      "cell_type": "markdown",
      "metadata": {
        "id": "KGZoEgEREL3n"
      },
      "source": [
        "## @ 에 대해 좀만 더"
      ]
    },
    {
      "cell_type": "code",
      "execution_count": null,
      "metadata": {
        "colab": {
          "base_uri": "https://localhost:8080/"
        },
        "id": "_AfML6PD_xxm",
        "outputId": "556cd2e0-a702-4ff8-cf0f-0ec328dc67fa"
      },
      "outputs": [
        {
          "name": "stdout",
          "output_type": "stream",
          "text": [
            "torch.Size([5, 10])\n",
            "torch.Size([32, 5, 10])\n"
          ]
        }
      ],
      "source": [
        "A=torch.randn(5,7)\n",
        "B=torch.randn(7,10)\n",
        "C=A@B\n",
        "print(C.shape) # 5x10\n",
        "\n",
        "# 3차원인 경우, 32번 [5x7] @ [7x10]을 수행한다.\n",
        "# 32x5x10 \n",
        "A=torch.randn(32,5,7)\n",
        "B=torch.randn(32,7,10)\n",
        "C=A@B\n",
        "print(C.shape)"
      ]
    },
    {
      "cell_type": "code",
      "execution_count": null,
      "metadata": {
        "colab": {
          "base_uri": "https://localhost:8080/"
        },
        "id": "lO6wqAoPEsdm",
        "outputId": "3f4b463d-0cd7-4db3-af60-fdc2ca5918ef"
      },
      "outputs": [
        {
          "name": "stdout",
          "output_type": "stream",
          "text": [
            "torch.Size([32, 5, 10])\n",
            "torch.Size([32, 5, 10])\n",
            "tensor(9.5367e-07)\n"
          ]
        }
      ],
      "source": [
        "A=torch.randn(32,5,7)\n",
        "B=torch.randn(7,10)\n",
        "\n",
        "C=A@B.repeat(32,1,1) # repeat = replica. 32x7x10\n",
        "D=A@B\n",
        "\n",
        "print(C.shape)\n",
        "print(D.shape)\n",
        "print((C-D).abs().max())"
      ]
    },
    {
      "cell_type": "code",
      "execution_count": null,
      "metadata": {
        "colab": {
          "base_uri": "https://localhost:8080/"
        },
        "id": "wJsuoY1AFTsP",
        "outputId": "bd0f43f8-2442-4a16-a225-6a3c500cc67a"
      },
      "outputs": [
        {
          "name": "stdout",
          "output_type": "stream",
          "text": [
            "tensor([[0.8109, 0.0390, 0.5317],\n",
            "        [0.2592, 0.0011, 0.0123]])\n",
            "tensor([[[[0.8109, 0.0390, 0.5317, 0.8109, 0.0390, 0.5317],\n",
            "          [0.2592, 0.0011, 0.0123, 0.2592, 0.0011, 0.0123],\n",
            "          [0.8109, 0.0390, 0.5317, 0.8109, 0.0390, 0.5317],\n",
            "          [0.2592, 0.0011, 0.0123, 0.2592, 0.0011, 0.0123],\n",
            "          [0.8109, 0.0390, 0.5317, 0.8109, 0.0390, 0.5317],\n",
            "          [0.2592, 0.0011, 0.0123, 0.2592, 0.0011, 0.0123]]],\n",
            "\n",
            "\n",
            "        [[[0.8109, 0.0390, 0.5317, 0.8109, 0.0390, 0.5317],\n",
            "          [0.2592, 0.0011, 0.0123, 0.2592, 0.0011, 0.0123],\n",
            "          [0.8109, 0.0390, 0.5317, 0.8109, 0.0390, 0.5317],\n",
            "          [0.2592, 0.0011, 0.0123, 0.2592, 0.0011, 0.0123],\n",
            "          [0.8109, 0.0390, 0.5317, 0.8109, 0.0390, 0.5317],\n",
            "          [0.2592, 0.0011, 0.0123, 0.2592, 0.0011, 0.0123]]],\n",
            "\n",
            "\n",
            "        [[[0.8109, 0.0390, 0.5317, 0.8109, 0.0390, 0.5317],\n",
            "          [0.2592, 0.0011, 0.0123, 0.2592, 0.0011, 0.0123],\n",
            "          [0.8109, 0.0390, 0.5317, 0.8109, 0.0390, 0.5317],\n",
            "          [0.2592, 0.0011, 0.0123, 0.2592, 0.0011, 0.0123],\n",
            "          [0.8109, 0.0390, 0.5317, 0.8109, 0.0390, 0.5317],\n",
            "          [0.2592, 0.0011, 0.0123, 0.2592, 0.0011, 0.0123]]]])\n",
            "torch.Size([3, 1, 6, 6])\n"
          ]
        }
      ],
      "source": [
        "A = torch.rand(2,3)\n",
        "A_repeat=A.repeat(3,1,3,2)\n",
        "print(A)\n",
        "print(A_repeat)\n",
        "print(A_repeat.shape)"
      ]
    },
    {
      "cell_type": "markdown",
      "metadata": {
        "id": "EFw55VafFpvc"
      },
      "source": [
        "## numpy <-> torch 왔다갔다 가능"
      ]
    },
    {
      "cell_type": "code",
      "execution_count": null,
      "metadata": {
        "colab": {
          "base_uri": "https://localhost:8080/"
        },
        "id": "llEeZZHQFsgp",
        "outputId": "78f5efa4-b2bf-4b3b-9fad-2b84b885ef8a"
      },
      "outputs": [
        {
          "name": "stdout",
          "output_type": "stream",
          "text": [
            "<class 'torch.Tensor'>\n",
            "<class 'numpy.ndarray'>\n"
          ]
        }
      ],
      "source": [
        "import numpy as np\n",
        "import torch\n",
        "\n",
        "a=np.array([1,2,3])\n",
        "b=torch.tensor([1,2,3])\n",
        "A=torch.tensor(a) # A=torch.from_numpy(a)\n",
        "B=b.numpy() # B=np.array(b)\n",
        "print(type(A))\n",
        "print(type(B))"
      ]
    },
    {
      "cell_type": "markdown",
      "metadata": {
        "id": "tKkt6PjpGMvn"
      },
      "source": [
        "## 딥러닝을 가능케한 autograd"
      ]
    },
    {
      "cell_type": "code",
      "execution_count": 6,
      "metadata": {
        "colab": {
          "base_uri": "https://localhost:8080/"
        },
        "id": "prT2Bx96GOGG",
        "outputId": "2b5e5940-36c2-4546-e6cb-53cce6b350da"
      },
      "outputs": [
        {
          "name": "stdout",
          "output_type": "stream",
          "text": [
            "tensor([1.], requires_grad=True)\n",
            "tensor([1.])\n"
          ]
        }
      ],
      "source": [
        "x=torch.tensor([1.], requires_grad=True) # float 이여야해서 1.\n",
        "#x=torch.tensor([1], requires_grad=True) # 정수는 미분할 수 없다. 에러.\n",
        "print(x)\n",
        "xf=torch.tensor([1.], requires_grad=False) # \n",
        "print(xf)\n"
      ]
    },
    {
      "cell_type": "code",
      "execution_count": null,
      "metadata": {
        "colab": {
          "base_uri": "https://localhost:8080/"
        },
        "id": "TcjcGFkoGhlm",
        "outputId": "feefecd6-749e-4c37-c220-4d27d2395365"
      },
      "outputs": [
        {
          "name": "stdout",
          "output_type": "stream",
          "text": [
            "tensor([1.])\n",
            "False\n",
            "tensor([1.], requires_grad=True)\n",
            "True\n"
          ]
        }
      ],
      "source": [
        "x=torch.tensor([1.])\n",
        "print(x)\n",
        "print(x.requires_grad)\n",
        "\n",
        "x.requires_grad=True\n",
        "print(x)\n",
        "print(x.requires_grad)"
      ]
    },
    {
      "cell_type": "code",
      "execution_count": null,
      "metadata": {
        "colab": {
          "base_uri": "https://localhost:8080/"
        },
        "id": "vrOnV1lEGryX",
        "outputId": "ffedd078-5edf-447d-af5d-bcddffb1c37a"
      },
      "outputs": [
        {
          "name": "stdout",
          "output_type": "stream",
          "text": [
            "tensor([1.], grad_fn=<PowBackward0>)\n",
            "None\n",
            "tensor([2.])\n"
          ]
        }
      ],
      "source": [
        "x=torch.tensor([1.], requires_grad=True)\n",
        "y=x**2\n",
        "print(y) # PowBackward0 가 붙어있다!\n",
        "\n",
        "print(x.grad)\n",
        "y.backward() # 미분 수행. x.grad에 대입값이 들어감.\n",
        "print(x.grad) # y=x**2을 미분한 2x의 x 값에 1을 대입한 gradient 값"
      ]
    },
    {
      "cell_type": "code",
      "execution_count": null,
      "metadata": {
        "colab": {
          "base_uri": "https://localhost:8080/"
        },
        "id": "37iwYRZhHvPg",
        "outputId": "e23e9dd2-eae3-467d-fbb6-922b427cbdb4"
      },
      "outputs": [
        {
          "name": "stdout",
          "output_type": "stream",
          "text": [
            "tensor([1.], grad_fn=<PowBackward0>)\n",
            "tensor([3.], grad_fn=<MulBackward0>)\n",
            "tensor([6.])\n"
          ]
        }
      ],
      "source": [
        "x=torch.tensor([1.], requires_grad=True)\n",
        "y=x**2\n",
        "print(y)\n",
        "# y.retain_grad() # 이걸 하면 y.grad도 볼 수 있다\n",
        "\n",
        "z=3*y\n",
        "print(z) # MulBackward0 가 붙어있다!\n",
        "\n",
        "z.backward() # dz/dx=(dz/dy)*(dy/dx)\n",
        "print(x.grad) # chain rule로 알아냄\n",
        "# print(y.grad) # warning! 중간건 안된다"
      ]
    },
    {
      "cell_type": "code",
      "execution_count": null,
      "metadata": {
        "colab": {
          "base_uri": "https://localhost:8080/"
        },
        "id": "uTmUpkNMJMa2",
        "outputId": "4e9aca93-26d0-4ba1-b246-df6144885968"
      },
      "outputs": [
        {
          "name": "stdout",
          "output_type": "stream",
          "text": [
            "tensor([2.])\n"
          ]
        }
      ],
      "source": [
        "x=torch.tensor([1.], requires_grad=True)\n",
        "y=x**2\n",
        "z=3*y\n",
        "\n",
        "y.backward() # 이렇게하면 y에서부터 뒤로 넘어감 (backward!)\n",
        "print(x.grad)"
      ]
    },
    {
      "cell_type": "code",
      "execution_count": null,
      "metadata": {
        "colab": {
          "base_uri": "https://localhost:8080/"
        },
        "id": "uXGWg878JVeu",
        "outputId": "e18f32ae-af71-4702-b7de-12338c3f1eb1"
      },
      "outputs": [
        {
          "name": "stdout",
          "output_type": "stream",
          "text": [
            "tensor([2.], grad_fn=<AddBackward0>)\n",
            "tensor([8.])\n"
          ]
        }
      ],
      "source": [
        "x=torch.tensor([1.], requires_grad=True)\n",
        "a=x**2\n",
        "b=a+1\n",
        "print(b) # AddBackward0 가 붙어있다!\n",
        "c=b**2\n",
        "c.backward()\n",
        "print(x.grad)"
      ]
    },
    {
      "cell_type": "code",
      "execution_count": null,
      "metadata": {
        "colab": {
          "base_uri": "https://localhost:8080/"
        },
        "id": "4-H9POSyKGoe",
        "outputId": "50d9c1ce-a874-4da8-a58f-695ea506b52b"
      },
      "outputs": [
        {
          "name": "stdout",
          "output_type": "stream",
          "text": [
            "tensor([3.], grad_fn=<AddBackward0>)\n",
            "tensor([4.])\n",
            "tensor([2.])\n"
          ]
        }
      ],
      "source": [
        "x=torch.tensor([1.],requires_grad=True)\n",
        "y=torch.tensor([1.],requires_grad=True)\n",
        "z= 2*x**2 + y**2\n",
        "print(z)\n",
        "z.backward()\n",
        "print(x.grad) # dz/dx 1 대입 (편미분)\n",
        "print(y.grad)"
      ]
    },
    {
      "cell_type": "code",
      "execution_count": null,
      "metadata": {
        "colab": {
          "base_uri": "https://localhost:8080/"
        },
        "id": "-CLo7GtDKZYP",
        "outputId": "7e79d89c-dae8-4788-823a-aa82926081e5"
      },
      "outputs": [
        {
          "name": "stdout",
          "output_type": "stream",
          "text": [
            "tensor([2.])\n",
            "tensor([1.])\n"
          ]
        }
      ],
      "source": [
        "x=torch.tensor([1.],requires_grad=True)\n",
        "y=torch.tensor([1.],requires_grad=True)\n",
        "z= y*x**2\n",
        "z.backward()\n",
        "print(x.grad)\n",
        "print(y.grad)"
      ]
    },
    {
      "cell_type": "code",
      "execution_count": null,
      "metadata": {
        "colab": {
          "base_uri": "https://localhost:8080/"
        },
        "id": "OcwjW_rHKaQY",
        "outputId": "90d7ce64-8dfa-4939-91a4-76f7923b3189"
      },
      "outputs": [
        {
          "name": "stdout",
          "output_type": "stream",
          "text": [
            "tensor(14., grad_fn=<SumBackward0>)\n",
            "tensor([2., 4., 6.])\n"
          ]
        }
      ],
      "source": [
        "x=torch.tensor([1., 2., 3.] ,requires_grad=True)\n",
        "y=torch.sum(x**2) # x1**2 + x2**2 + x3**2\n",
        "y.backward()\n",
        "\n",
        "print(y)\n",
        "print(x.grad) # 스칼라를 벡터로 미분"
      ]
    },
    {
      "cell_type": "code",
      "execution_count": null,
      "metadata": {
        "colab": {
          "base_uri": "https://localhost:8080/"
        },
        "id": "OnA1FrLgKtHU",
        "outputId": "120113e4-6660-41ae-c25e-10dd1e795425"
      },
      "outputs": [
        {
          "name": "stdout",
          "output_type": "stream",
          "text": [
            "tensor([1.])\n"
          ]
        }
      ],
      "source": [
        "x=torch.tensor([1.] ,requires_grad=True)\n",
        "x.requires_grad=False\n",
        "# tranfer learning 할 때 필요\n",
        "# pretrained model을 선택적으로 freeze시킴(학습 안시킴). freeze하는 부분 선택 가능.\n",
        "y=x**2\n",
        "print(y)\n",
        "# y.backward() # error!"
      ]
    },
    {
      "cell_type": "code",
      "execution_count": null,
      "metadata": {
        "colab": {
          "base_uri": "https://localhost:8080/"
        },
        "id": "3IkS-TBZK7oH",
        "outputId": "5538d184-3ecb-40c0-ebd4-0534d112a79f"
      },
      "outputs": [
        {
          "name": "stdout",
          "output_type": "stream",
          "text": [
            "tensor([2.])\n",
            "tensor([4.])\n"
          ]
        }
      ],
      "source": [
        "x=torch.tensor([2.] ,requires_grad=True)\n",
        "x=x.detach() # detach도 많이 쓰이는 듯 => grad 떼내는 것\n",
        "print(x)\n",
        "y=x**2\n",
        "print(y)"
      ]
    },
    {
      "cell_type": "code",
      "execution_count": 14,
      "metadata": {
        "colab": {
          "base_uri": "https://localhost:8080/"
        },
        "id": "PyN_3wAULp-_",
        "outputId": "310d7bf2-ad14-4142-8999-e33234100c97"
      },
      "outputs": [
        {
          "name": "stdout",
          "output_type": "stream",
          "text": [
            "True\n",
            "tensor([1.])\n",
            "True\n",
            "tensor([1.], grad_fn=<PowBackward0>)\n",
            "True\n",
            "tensor([1.], grad_fn=<PowBackward0>)\n",
            "tensor([2.])\n"
          ]
        }
      ],
      "source": [
        "# detach 와 torch.no_grad ##### 많이 씀\n",
        "x=torch.tensor([1.], requires_grad=True)\n",
        "# chain rule을 위해 계속 grad_fu을 update 하니까 grad_fn 잠시 안 계산하고 싶을 때 torch.no_grad\n",
        "# 모델 '테스트' 시에는 불필요하게 메모리 쓸 필요 없기 때문!\n",
        "with torch.no_grad():\n",
        "    y=x**2\n",
        "    print(x.requires_grad) # 여기 구문에서만 grad function을 계산하지 말자\n",
        "    print(y)\n",
        "print(x.requires_grad)\n",
        "# y.backward() # error!\n",
        "y=x**2\n",
        "print(y)\n",
        "\n",
        "x=torch.tensor([1.], requires_grad=True)\n",
        "#x=x.detach()\n",
        "y = x**2\n",
        "print(x.requires_grad)\n",
        "print(y)\n",
        "y.backward()\n",
        "print(x.grad)\n",
        "# y.backward() # error!"
      ]
    },
    {
      "cell_type": "code",
      "execution_count": 23,
      "metadata": {
        "colab": {
          "base_uri": "https://localhost:8080/",
          "height": 213
        },
        "id": "XZ-1KlfUMp5v",
        "outputId": "1eedc294-21ce-4f41-80e3-d589a917d7b8"
      },
      "outputs": [
        {
          "name": "stdout",
          "output_type": "stream",
          "text": [
            "tensor([2., 4.])\n"
          ]
        },
        {
          "data": {
            "image/svg+xml": [
              "<?xml version=\"1.0\" encoding=\"UTF-8\" standalone=\"no\"?>\n",
              "<!DOCTYPE svg PUBLIC \"-//W3C//DTD SVG 1.1//EN\"\n",
              " \"http://www.w3.org/Graphics/SVG/1.1/DTD/svg11.dtd\">\n",
              "<!-- Generated by graphviz version 10.0.1 (20240210.2158)\n",
              " -->\n",
              "<!-- Pages: 1 -->\n",
              "<svg width=\"108pt\" height=\"220pt\"\n",
              " viewBox=\"0.00 0.00 108.00 220.00\" xmlns=\"http://www.w3.org/2000/svg\" xmlns:xlink=\"http://www.w3.org/1999/xlink\">\n",
              "<g id=\"graph0\" class=\"graph\" transform=\"scale(1 1) rotate(0) translate(4 216)\">\n",
              "<polygon fill=\"white\" stroke=\"none\" points=\"-4,4 -4,-216 104,-216 104,4 -4,4\"/>\n",
              "<!-- 2198235756720 -->\n",
              "<g id=\"node1\" class=\"node\">\n",
              "<title>2198235756720</title>\n",
              "<polygon fill=\"#caff70\" stroke=\"black\" points=\"77,-32 23,-32 23,0 77,0 77,-32\"/>\n",
              "<text text-anchor=\"middle\" x=\"50\" y=\"-6.5\" font-family=\"monospace\" font-size=\"10.00\"> (2)</text>\n",
              "</g>\n",
              "<!-- 2198235580400 -->\n",
              "<g id=\"node2\" class=\"node\">\n",
              "<title>2198235580400</title>\n",
              "<polygon fill=\"lightgrey\" stroke=\"black\" points=\"94,-88 6,-88 6,-68 94,-68 94,-88\"/>\n",
              "<text text-anchor=\"middle\" x=\"50\" y=\"-74.5\" font-family=\"monospace\" font-size=\"10.00\">PowBackward0</text>\n",
              "</g>\n",
              "<!-- 2198235580400&#45;&gt;2198235756720 -->\n",
              "<g id=\"edge3\" class=\"edge\">\n",
              "<title>2198235580400&#45;&gt;2198235756720</title>\n",
              "<path fill=\"none\" stroke=\"black\" d=\"M50,-67.62C50,-61.1 50,-52.05 50,-43.4\"/>\n",
              "<polygon fill=\"black\" stroke=\"black\" points=\"53.5,-43.65 50,-33.65 46.5,-43.65 53.5,-43.65\"/>\n",
              "</g>\n",
              "<!-- 2198235581264 -->\n",
              "<g id=\"node3\" class=\"node\">\n",
              "<title>2198235581264</title>\n",
              "<polygon fill=\"lightgrey\" stroke=\"black\" points=\"100,-144 0,-144 0,-124 100,-124 100,-144\"/>\n",
              "<text text-anchor=\"middle\" x=\"50\" y=\"-130.5\" font-family=\"monospace\" font-size=\"10.00\">AccumulateGrad</text>\n",
              "</g>\n",
              "<!-- 2198235581264&#45;&gt;2198235580400 -->\n",
              "<g id=\"edge1\" class=\"edge\">\n",
              "<title>2198235581264&#45;&gt;2198235580400</title>\n",
              "<path fill=\"none\" stroke=\"black\" d=\"M50,-123.59C50,-117.01 50,-107.96 50,-99.73\"/>\n",
              "<polygon fill=\"black\" stroke=\"black\" points=\"53.5,-99.81 50,-89.81 46.5,-99.81 53.5,-99.81\"/>\n",
              "</g>\n",
              "<!-- 2198235820096 -->\n",
              "<g id=\"node4\" class=\"node\">\n",
              "<title>2198235820096</title>\n",
              "<polygon fill=\"lightblue\" stroke=\"black\" points=\"77,-212 23,-212 23,-180 77,-180 77,-212\"/>\n",
              "<text text-anchor=\"middle\" x=\"50\" y=\"-186.5\" font-family=\"monospace\" font-size=\"10.00\"> (2)</text>\n",
              "</g>\n",
              "<!-- 2198235820096&#45;&gt;2198235581264 -->\n",
              "<g id=\"edge2\" class=\"edge\">\n",
              "<title>2198235820096&#45;&gt;2198235581264</title>\n",
              "<path fill=\"none\" stroke=\"black\" d=\"M50,-179.55C50,-172.34 50,-163.66 50,-155.88\"/>\n",
              "<polygon fill=\"black\" stroke=\"black\" points=\"53.5,-155.92 50,-145.92 46.5,-155.92 53.5,-155.92\"/>\n",
              "</g>\n",
              "</g>\n",
              "</svg>\n"
            ],
            "text/plain": [
              "<graphviz.graphs.Digraph at 0x1ffd10d0820>"
            ]
          },
          "execution_count": 23,
          "metadata": {},
          "output_type": "execute_result"
        }
      ],
      "source": [
        "# !pip install torchviz # wrapper\n",
        "# graphviz sw 설치: https://graphviz.org/download/\n",
        "# path 설정 필요. 시스템 환경변수에 등록 D:\\Program Files\\Graphviz\\bin\n",
        "# vs code 껐다가 켜기\n",
        "# terminal에 dot -V 하여 테스트\n",
        "# 그림에 나타나는 숫자는 미분할 변수가 몇 개인지 표시한 것\n",
        "from torchviz import make_dot\n",
        "x=torch.tensor([1., 2.0],requires_grad=True)\n",
        "\n",
        "y=x**2\n",
        "#y.sum().backward() # 2차원 텐서를 미분하려면 스칼라 값으로 축소하거나 sum() or mean() 외부 그래디언트를 제공해야 한다\n",
        "y.backward(torch.tensor([1.0, 1.0])) # 각 요소에 대한 가중치가 동일하게 1.0임.\n",
        "print(x.grad)\n",
        "\n",
        "#make_dot(x)\n",
        "make_dot(x**2)\n",
        "#make_dot(x**2+1)\n",
        "#make_dot((x**2+1)**2)\n"
      ]
    },
    {
      "cell_type": "markdown",
      "metadata": {
        "id": "_msxA-KpwUU6"
      },
      "source": [
        "## 간단한 인공신경망 만들기"
      ]
    },
    {
      "cell_type": "code",
      "execution_count": 29,
      "metadata": {
        "colab": {
          "base_uri": "https://localhost:8080/"
        },
        "id": "4EtybuRhwXvc",
        "outputId": "68585abf-8e67-44b2-d02c-9cf210e67c85"
      },
      "outputs": [
        {
          "name": "stdout",
          "output_type": "stream",
          "text": [
            "Parameter containing:\n",
            "tensor([[0.6972]], requires_grad=True)\n",
            "Parameter containing:\n",
            "tensor([0.2986], requires_grad=True)\n",
            "tensor([0.9958], grad_fn=<ViewBackward0>)\n",
            "tensor([0.9958], grad_fn=<AddBackward0>)\n"
          ]
        }
      ],
      "source": [
        "import torch\n",
        "from torch import nn\n",
        "\n",
        "x=torch.tensor([1.])\n",
        "model = nn.Linear(1,1) # 입력 node 한 개, 출력 node 한 개인 layer 만듦\n",
        "\n",
        "print(model.weight) # 만들면서 initialize 함\n",
        "print(model.bias)\n",
        "\n",
        "y = model(x) # 모델을 통과한다\n",
        "print(y)\n",
        "\n",
        "y = x @ model.weight + model.bias\n",
        "print(y)"
      ]
    },
    {
      "cell_type": "code",
      "execution_count": null,
      "metadata": {
        "colab": {
          "base_uri": "https://localhost:8080/"
        },
        "id": "tbvik3R0yAYL",
        "outputId": "f76e5e9f-64bf-47bc-ee98-f56e1613dabe"
      },
      "outputs": [
        {
          "name": "stdout",
          "output_type": "stream",
          "text": [
            "Parameter containing:\n",
            "tensor([[0.7723],\n",
            "        [0.8549],\n",
            "        [0.9242]], requires_grad=True)\n",
            "Parameter containing:\n",
            "tensor([ 0.7878, -0.9535, -0.4586], requires_grad=True)\n",
            "Parameter containing:\n",
            "tensor([[-0.3404, -0.2877,  0.3690]], requires_grad=True)\n",
            "Parameter containing:\n",
            "tensor([-0.1028], requires_grad=True)\n",
            "tensor([ 1.5601, -0.0986,  0.4656], grad_fn=<AddBackward0>)\n",
            "tensor([-0.4337], grad_fn=<AddBackward0>)\n",
            "tensor([-0.4337], grad_fn=<AddBackward0>)\n"
          ]
        }
      ],
      "source": [
        "fc1 = nn.Linear(1,3) # fully-connected\n",
        "fc2 = nn.Linear(3,1)\n",
        "\n",
        "print(fc1.weight)\n",
        "print(fc1.bias)\n",
        "print(fc2.weight)\n",
        "print(fc2.bias)\n",
        "\n",
        "x=torch.tensor([1.])\n",
        "x=fc1(x)\n",
        "print(x)\n",
        "x=fc2(x)\n",
        "print(x)\n",
        "\n",
        "x=torch.tensor([1.])\n",
        "y = (x@fc1.weight.T+fc1.bias)@fc2.weight.T+fc2.bias # weight가 transpose로 들어있음에 유의한다.\n",
        "# nn.Linear 는 개x채x행x열에서 \"채\" 형태로 (1D data) 들어오길 기대하는 녀석이다.\n",
        "# 즉, 노드 하나가 곧 한 채널의 의미한다.\n",
        "# 따라서, 데이터 여러개를 통과시키고 싶다면 개x채 의 형태로 줘야 함\n",
        "# why T? weight도 개x채 형태로 만들기 위함!\n",
        "# 일단, weight shape 개x채에서 채는 무조건 앞에 거 채널 개수와 맞추셈!\n",
        "# 예를 들어, nn.Linear(2,3) 이면 앞에거 채널 개수는 2 따라서 ?x2 인데\n",
        "# 두 채널 값을 가지고 3개의 노드를 만드는 거라서 3x2 가 된다!\n",
        "\n",
        "# pytorch https://pytorch.org/docs/stable/generated/torch.nn.Linear.html#torch.nn.Linear\n",
        "\n",
        "print(y)\n",
        "# input size: 1\n",
        "# fc1.weight.T size: 1x3\n",
        "# fc1.bias size: 3\n",
        "# fc2.weight.T size: 3x1\n",
        "# fc2.bias size: 1"
      ]
    },
    {
      "cell_type": "code",
      "execution_count": null,
      "metadata": {
        "colab": {
          "base_uri": "https://localhost:8080/"
        },
        "id": "xURqkIyQ4LB7",
        "outputId": "d1aacd3b-7a41-4f95-d1c3-056bff6e14be"
      },
      "outputs": [
        {
          "name": "stdout",
          "output_type": "stream",
          "text": [
            "tensor([ 0.1443,  1.7302, -0.6704], grad_fn=<AddBackward0>)\n",
            "tensor([-0.8868], grad_fn=<AddBackward0>)\n",
            "tensor([-0.8868], grad_fn=<AddBackward0>)\n"
          ]
        }
      ],
      "source": [
        "fc1 = nn.Linear(1,3)\n",
        "fc2 = nn.Linear(3,1)\n",
        "\n",
        "x=torch.tensor([1.])\n",
        "x=fc1(x)\n",
        "print(x)\n",
        "x=fc2(x)\n",
        "print(x)\n",
        "\n",
        "# 위의 방법이 번거로우니 쉽게 합칠 수 있다. nn.Sequential\n",
        "model = nn.Sequential(fc1, fc2) # layer 풀칠. default => linear activation\n",
        "x=torch.tensor([1.])\n",
        "print(model(x))"
      ]
    },
    {
      "cell_type": "code",
      "execution_count": null,
      "metadata": {
        "colab": {
          "base_uri": "https://localhost:8080/"
        },
        "id": "10eOxDlO4ssy",
        "outputId": "2e8dfa26-fb46-4e01-f878-9f09dff5b5c6"
      },
      "outputs": [
        {
          "name": "stdout",
          "output_type": "stream",
          "text": [
            "tensor([-0.2115, -1.6457])\n",
            "tensor([0.5339, 0.5663, 0.4219], grad_fn=<AddBackward0>)\n",
            "tensor([[1.1064, 0.4146]])\n",
            "tensor([[-0.1059, -0.0736,  0.6442]], grad_fn=<AddmmBackward0>)\n",
            "tensor([[ 0.7434, -0.2427],\n",
            "        [-0.4870, -0.8473],\n",
            "        [ 0.4725,  0.1137],\n",
            "        [-1.1611, -0.3709],\n",
            "        [-0.5012, -1.5173]])\n",
            "tensor([[0.0809, 0.1192, 0.5892],\n",
            "        [0.5228, 0.4744, 0.2909],\n",
            "        [0.1205, 0.1075, 0.4898],\n",
            "        [0.6698, 0.5209, 0.0719],\n",
            "        [0.6060, 0.6002, 0.3330]], grad_fn=<AddmmBackward0>)\n",
            "torch.Size([2, 3, 1, 4, 5, 3])\n"
          ]
        }
      ],
      "source": [
        "model = nn.Sequential(nn.Linear(2,5), # 여기는 채,채\n",
        "                      nn.Linear(5,10),\n",
        "                      nn.Linear(10,3))\n",
        "\n",
        "x=torch.randn(2)\n",
        "print(x)\n",
        "print(model(x))\n",
        "\n",
        "x=torch.randn(1,2)\n",
        "print(x)\n",
        "print(model(x))\n",
        "\n",
        "x=torch.randn(5,2) # 개x채 => 두 개의 채널 값(키, 몸무게)을 가지는 데이터(사람) 5개를 통과시킴\n",
        "print(x)\n",
        "print(model(x))\n",
        "\n",
        "x=torch.randn(2,3,1,4,5,2) # 마지막 것만 채널로 보고 처리한다. 앞에것은 개\n",
        "print(model(x).shape)"
      ]
    }
  ],
  "metadata": {
    "colab": {
      "provenance": []
    },
    "kernelspec": {
      "display_name": "Python 3",
      "name": "python3"
    },
    "language_info": {
      "codemirror_mode": {
        "name": "ipython",
        "version": 3
      },
      "file_extension": ".py",
      "mimetype": "text/x-python",
      "name": "python",
      "nbconvert_exporter": "python",
      "pygments_lexer": "ipython3",
      "version": "3.8.10"
    }
  },
  "nbformat": 4,
  "nbformat_minor": 0
}
